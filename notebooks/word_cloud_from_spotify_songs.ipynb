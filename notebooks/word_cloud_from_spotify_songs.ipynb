{
 "cells": [
  {
   "cell_type": "markdown",
   "metadata": {},
   "source": [
    "## Generate word cloud from lyrics of top spotify songs:"
   ]
  },
  {
   "cell_type": "code",
   "execution_count": null,
   "metadata": {},
   "outputs": [],
   "source": [
    "import better_profanity\n",
    "import json\n",
    "import spotipy\n",
    "import string\n",
    "import sys\n",
    "\n",
    "import matplotlib.pyplot as plt\n",
    "\n",
    "from nltk.corpus import stopwords\n",
    "from spotipy.oauth2 import SpotifyClientCredentials, SpotifyOAuth\n",
    "from wordcloud import WordCloud\n",
    "\n",
    "sys.path.append(\n",
    "    os.path.join(sys.path[0].split(\"spotify-research\")[0], \"spotify-research\")\n",
    ")\n",
    "\n",
    "from spotify_research.lyrics_scraping import scrape_lyrics, clean_for_word_cloud"
   ]
  },
  {
   "cell_type": "code",
   "execution_count": null,
   "metadata": {},
   "outputs": [],
   "source": [
    "# When you run this cell for the first time in a notebook session,\n",
    "# you will be redirected to a different web page and prompted to\n",
    "# paste the URL of this page into a text box here. Once this is done\n",
    "# the API call will be made.\n",
    "\n",
    "with open(\n",
    "    \"../credentials/client_credentials.json\", \"r\", encoding=\"utf-8\"\n",
    ") as file_path:\n",
    "    credentials = json.load(file_path)\n",
    "    \n",
    "with open(\n",
    "    \"../credentials/headers.json\", \"r\", encoding=\"utf-8\"\n",
    ") as file_path:\n",
    "    headers = json.load(file_path)\n",
    "    \n",
    "os.environ[\"SPOTIPY_CLIENT_ID\"] = credentials['CLIENT_ID']\n",
    "os.environ[\"SPOTIPY_CLIENT_SECRET\"] = credentials['CLIENT_SECRET']\n",
    "\n",
    "scope = 'user-top-read'\n",
    "sp = spotipy.Spotify(auth_manager=SpotifyOAuth(client_id=credentials[\"CLIENT_ID\"], \n",
    "                                               client_secret = credentials[\"CLIENT_SECRET\"], \n",
    "                                               redirect_uri=credentials[\"REDIRECT_URI\"],\n",
    "                                               scope=scope))"
   ]
  },
  {
   "cell_type": "code",
   "execution_count": null,
   "metadata": {},
   "outputs": [],
   "source": [
    "# ranges = {'short_term', 'medium_term', 'long_term'}\n",
    "\n",
    "med_results = sp.current_user_top_tracks(time_range='medium_term', limit=50)\n",
    "\n",
    "artist_track_pairs = [{'artist': i['artists'][0]['name'],\n",
    "                      'track_name': i['name']} for i in med_results['items']]\n"
   ]
  },
  {
   "cell_type": "code",
   "execution_count": null,
   "metadata": {},
   "outputs": [],
   "source": [
    "# Scraping lyrics from genius.com\n",
    "\n",
    "lyrics = []\n",
    "\n",
    "for song in artist_track_pairs:\n",
    "    try:\n",
    "        lyrics.extend(\n",
    "            scrape_lyrics(artist_name=song['artist'],\n",
    "                          track_name=song['track_name'],\n",
    "                          headers=headers)\n",
    "        )\n",
    "    except IndexError:\n",
    "        continue"
   ]
  },
  {
   "cell_type": "code",
   "execution_count": null,
   "metadata": {},
   "outputs": [],
   "source": [
    "# Lyrics are in a list of lines from each song,\n",
    "# so need to convert to one complete string.\n",
    "\n",
    "full_string = ' '.join(lyrics)\n",
    "\n",
    "# Removing punctuation, stopwords, profanity and vocables:\n",
    "words_to_remove = stopwords.words('english')\n",
    "\n",
    "for i in better_profanity.profanity.CENSOR_WORDSET:\n",
    "    words_to_remove.append(str(i))\n",
    "    \n",
    "words_to_remove.extend([\"oh\", \"ooh\", \"o\", \"oooh\", \"da\"])\n",
    "\n",
    "cleaned_text = clean_for_word_cloud(full_string, words_to_remove=words_to_remove)\n"
   ]
  },
  {
   "cell_type": "code",
   "execution_count": null,
   "metadata": {},
   "outputs": [],
   "source": [
    "wordcloud = WordCloud(\n",
    "    max_words=len(cleaned_text),\n",
    "    background_color=\"white\"\n",
    ").generate(' '.join(cleaned_text))\n",
    "\n",
    "# Display the generated image:\n",
    "plt.figure(figsize = (12,9))\n",
    "plt.imshow(wordcloud, interpolation='bilinear')\n",
    "plt.axis(\"off\")\n",
    "plt.savefig(\"word_cloud.png\")\n",
    "plt.show()"
   ]
  },
  {
   "cell_type": "code",
   "execution_count": null,
   "metadata": {},
   "outputs": [],
   "source": []
  }
 ],
 "metadata": {
  "kernelspec": {
   "display_name": "Python 3",
   "language": "python",
   "name": "python3"
  },
  "language_info": {
   "codemirror_mode": {
    "name": "ipython",
    "version": 3
   },
   "file_extension": ".py",
   "mimetype": "text/x-python",
   "name": "python",
   "nbconvert_exporter": "python",
   "pygments_lexer": "ipython3",
   "version": "3.7.4"
  }
 },
 "nbformat": 4,
 "nbformat_minor": 4
}
